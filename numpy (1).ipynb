{
 "cells": [
  {
   "cell_type": "code",
   "execution_count": 1,
   "id": "748806c0-49c9-4ee6-9e9a-f989c0a7e9c0",
   "metadata": {},
   "outputs": [],
   "source": [
    "import numpy as np   #np as alias we took of numpy,"
   ]
  },
  {
   "cell_type": "code",
   "execution_count": 2,
   "id": "648a2b2e-012d-4b93-a66f-a728064fbbc5",
   "metadata": {},
   "outputs": [],
   "source": [
    "myarr = np.array([2,4,77,6] )   #array() as np method 1-Dimensional array"
   ]
  },
  {
   "cell_type": "code",
   "execution_count": 3,
   "id": "8c8fa3e8-029a-42b9-859f-c90a4eb5453f",
   "metadata": {},
   "outputs": [
    {
     "data": {
      "text/plain": [
       "array([ 2,  4, 77,  6])"
      ]
     },
     "execution_count": 3,
     "metadata": {},
     "output_type": "execute_result"
    }
   ],
   "source": [
    "myarr"
   ]
  },
  {
   "cell_type": "code",
   "execution_count": 4,
   "id": "55e679be-5074-487c-85a3-02ad88a8cec6",
   "metadata": {},
   "outputs": [
    {
     "data": {
      "text/plain": [
       "numpy.ndarray"
      ]
     },
     "execution_count": 4,
     "metadata": {},
     "output_type": "execute_result"
    }
   ],
   "source": [
    "type(myarr)"
   ]
  },
  {
   "cell_type": "code",
   "execution_count": 5,
   "id": "d5fa4567-57c7-42f9-b7cf-0a0a0be902a2",
   "metadata": {},
   "outputs": [
    {
     "data": {
      "text/plain": [
       "(4,)"
      ]
     },
     "execution_count": 5,
     "metadata": {},
     "output_type": "execute_result"
    }
   ],
   "source": [
    "myarr.shape #1-D array"
   ]
  },
  {
   "cell_type": "code",
   "execution_count": 6,
   "id": "f01aee93-70ab-412d-9624-83c00c15f73e",
   "metadata": {},
   "outputs": [],
   "source": [
    "#array of 2D also called Matrix in maths"
   ]
  },
  {
   "cell_type": "code",
   "execution_count": 7,
   "id": "e16240a9-fa72-4745-9d71-b8840affa87d",
   "metadata": {},
   "outputs": [],
   "source": [
    "my2D = np.array([[2,3,4999,7],[4,5,1,2]]) #in this we have two rows starting with 0th row by default"
   ]
  },
  {
   "cell_type": "code",
   "execution_count": 8,
   "id": "4be04d4d-cab6-4b5f-9561-a77db3dedc10",
   "metadata": {},
   "outputs": [
    {
     "data": {
      "text/plain": [
       "7"
      ]
     },
     "execution_count": 8,
     "metadata": {},
     "output_type": "execute_result"
    }
   ],
   "source": [
    "my2D[0,3] #for retreiving data"
   ]
  },
  {
   "cell_type": "code",
   "execution_count": 9,
   "id": "d5cbda0b-6c93-4c06-ba99-ab7fb5ed2252",
   "metadata": {},
   "outputs": [
    {
     "data": {
      "text/plain": [
       "(2, 4)"
      ]
     },
     "execution_count": 9,
     "metadata": {},
     "output_type": "execute_result"
    }
   ],
   "source": [
    "my2D.shape  #it has 2 rows and 4 columns in 2-D array"
   ]
  },
  {
   "cell_type": "code",
   "execution_count": 10,
   "id": "8cad5341-4a3c-4a9f-b289-ae807e4330c0",
   "metadata": {},
   "outputs": [
    {
     "data": {
      "text/plain": [
       "dtype('int32')"
      ]
     },
     "execution_count": 10,
     "metadata": {},
     "output_type": "execute_result"
    }
   ],
   "source": [
    "my2D.dtype  #to know of which type it is"
   ]
  },
  {
   "cell_type": "code",
   "execution_count": 11,
   "id": "07411f72-05e4-4a67-bd36-9e60750c1778",
   "metadata": {},
   "outputs": [
    {
     "data": {
      "text/plain": [
       "2"
      ]
     },
     "execution_count": 11,
     "metadata": {},
     "output_type": "execute_result"
    }
   ],
   "source": [
    "my2D[0,0] #retrieving the value of 0th row and 0th column"
   ]
  },
  {
   "cell_type": "code",
   "execution_count": 12,
   "id": "286f443f-a455-4385-9f05-65918ab0dac6",
   "metadata": {},
   "outputs": [],
   "source": [
    "my2D[0,0]=98  #changing the value of 0th row and 0th column of 2-D"
   ]
  },
  {
   "cell_type": "code",
   "execution_count": 13,
   "id": "93be3887-91e7-4e85-8819-fa0571b58b4a",
   "metadata": {},
   "outputs": [
    {
     "data": {
      "text/plain": [
       "array([[  98,    3, 4999,    7],\n",
       "       [   4,    5,    1,    2]])"
      ]
     },
     "execution_count": 13,
     "metadata": {},
     "output_type": "execute_result"
    }
   ],
   "source": [
    "my2D"
   ]
  },
  {
   "cell_type": "code",
   "execution_count": null,
   "id": "8750f607-e9d3-43d9-aa26-bd84f28f4d5c",
   "metadata": {},
   "outputs": [],
   "source": []
  },
  {
   "cell_type": "code",
   "execution_count": null,
   "id": "7725203d-40f6-48bb-a793-9ecd84c0956d",
   "metadata": {},
   "outputs": [],
   "source": []
  },
  {
   "cell_type": "markdown",
   "id": "f1a9bc28-d5f6-4969-91f6-c78e07926124",
   "metadata": {},
   "source": [
    "#ARRAY CREATION"
   ]
  },
  {
   "cell_type": "code",
   "execution_count": 15,
   "id": "edf66339-1e4f-4ca9-899b-e6fd9499a964",
   "metadata": {},
   "outputs": [
    {
     "data": {
      "text/plain": [
       "array([[1, 2, 3],\n",
       "       [3, 5, 4]])"
      ]
     },
     "execution_count": 15,
     "metadata": {},
     "output_type": "execute_result"
    }
   ],
   "source": [
    "np.array([[1,2,3],[3,5,4]]) #creation from python object i.e. python list into 2D array"
   ]
  },
  {
   "cell_type": "code",
   "execution_count": 16,
   "id": "e24a468a-cdd1-496c-a254-d5a7d7731c4d",
   "metadata": {},
   "outputs": [
    {
     "data": {
      "text/plain": [
       "dtype('int32')"
      ]
     },
     "execution_count": 16,
     "metadata": {},
     "output_type": "execute_result"
    }
   ],
   "source": [
    "np.array([[1,2,3],[3,5,4]]).dtype"
   ]
  },
  {
   "cell_type": "code",
   "execution_count": 17,
   "id": "f5c2a4b7-e97a-40b2-ad71-8279c386f77d",
   "metadata": {},
   "outputs": [
    {
     "data": {
      "text/plain": [
       "array({3, 4, 5, 6}, dtype=object)"
      ]
     },
     "execution_count": 17,
     "metadata": {},
     "output_type": "execute_result"
    }
   ],
   "source": [
    "np.array({3,4,5,6})   #dtype =object is not efficient if we do any math calcs {prefernce to dtype in (int8,32,64 or float64) for effiecent calcs}"
   ]
  },
  {
   "cell_type": "code",
   "execution_count": null,
   "id": "0be74fb6-e665-4121-8462-a6120f1db4ea",
   "metadata": {},
   "outputs": [],
   "source": []
  },
  {
   "cell_type": "code",
   "execution_count": 18,
   "id": "1989331b-31c6-46ae-8e3e-1672f308d84d",
   "metadata": {},
   "outputs": [],
   "source": [
    "arr_1 = np.zeros((2,5))   #creation of numpy array with zeros &  rows=2 and columns=5"
   ]
  },
  {
   "cell_type": "code",
   "execution_count": 19,
   "id": "62a08943-7aa6-4c01-bd60-8139d2e8cedc",
   "metadata": {},
   "outputs": [
    {
     "data": {
      "text/plain": [
       "array([[0., 0., 0., 0., 0.],\n",
       "       [0., 0., 0., 0., 0.]])"
      ]
     },
     "execution_count": 19,
     "metadata": {},
     "output_type": "execute_result"
    }
   ],
   "source": [
    "arr_1"
   ]
  },
  {
   "cell_type": "code",
   "execution_count": 20,
   "id": "9f16a3f4-3c86-4c55-8ece-f00da99efea3",
   "metadata": {},
   "outputs": [
    {
     "data": {
      "text/plain": [
       "dtype('float64')"
      ]
     },
     "execution_count": 20,
     "metadata": {},
     "output_type": "execute_result"
    }
   ],
   "source": [
    "arr_1.dtype"
   ]
  },
  {
   "cell_type": "code",
   "execution_count": 21,
   "id": "8fce4d15-69eb-4390-be96-3b50588c840c",
   "metadata": {},
   "outputs": [
    {
     "data": {
      "text/plain": [
       "(2, 5)"
      ]
     },
     "execution_count": 21,
     "metadata": {},
     "output_type": "execute_result"
    }
   ],
   "source": [
    "arr_1.shape"
   ]
  },
  {
   "cell_type": "code",
   "execution_count": null,
   "id": "1629b9ff-97c2-45ab-8f58-f780a7af53a7",
   "metadata": {},
   "outputs": [],
   "source": []
  },
  {
   "cell_type": "code",
   "execution_count": null,
   "id": "f2bc8c39-61c4-4b5a-aae4-80b762b87448",
   "metadata": {},
   "outputs": [],
   "source": []
  },
  {
   "cell_type": "code",
   "execution_count": 22,
   "id": "5f361ed4-2530-40eb-a9ae-8d05d26f00be",
   "metadata": {},
   "outputs": [],
   "source": [
    "arr = np.arange(10)    #creation of numpy array from arange() method  "
   ]
  },
  {
   "cell_type": "code",
   "execution_count": 23,
   "id": "b43ab0f6-42bd-469d-b371-4a1b51d20e16",
   "metadata": {},
   "outputs": [
    {
     "data": {
      "text/plain": [
       "array([0, 1, 2, 3, 4, 5, 6, 7, 8, 9])"
      ]
     },
     "execution_count": 23,
     "metadata": {},
     "output_type": "execute_result"
    }
   ],
   "source": [
    "arr"
   ]
  },
  {
   "cell_type": "code",
   "execution_count": null,
   "id": "1f97daf5-df16-4026-84bf-0d549c2b29c2",
   "metadata": {},
   "outputs": [],
   "source": []
  },
  {
   "cell_type": "code",
   "execution_count": 24,
   "id": "897a7fa0-b470-4745-82fc-61f93200c085",
   "metadata": {},
   "outputs": [],
   "source": [
    "space = np.linspace(1,4,5)  #here 5 is total elements needed in 1-D array"
   ]
  },
  {
   "cell_type": "code",
   "execution_count": 25,
   "id": "24a2c25a-3533-4b99-b307-7964451faa44",
   "metadata": {},
   "outputs": [
    {
     "data": {
      "text/plain": [
       "array([1.  , 1.75, 2.5 , 3.25, 4.  ])"
      ]
     },
     "execution_count": 25,
     "metadata": {},
     "output_type": "execute_result"
    }
   ],
   "source": [
    "space"
   ]
  },
  {
   "cell_type": "code",
   "execution_count": 26,
   "id": "479bc40f-4dd5-41ee-9f0f-cc640afb2003",
   "metadata": {},
   "outputs": [
    {
     "data": {
      "text/plain": [
       "numpy.ndarray"
      ]
     },
     "execution_count": 26,
     "metadata": {},
     "output_type": "execute_result"
    }
   ],
   "source": [
    "type(space)"
   ]
  },
  {
   "cell_type": "code",
   "execution_count": null,
   "id": "6c169cb9-ad9b-46d3-9548-3fe356976f4c",
   "metadata": {},
   "outputs": [],
   "source": []
  },
  {
   "cell_type": "code",
   "execution_count": null,
   "id": "ca739db8-bf89-4b30-8284-c055eccef8c0",
   "metadata": {},
   "outputs": [],
   "source": []
  },
  {
   "cell_type": "code",
   "execution_count": 27,
   "id": "70c54bdc-e46e-4f38-8e6c-089638e100ad",
   "metadata": {},
   "outputs": [],
   "source": [
    "ide= np.identity(45)   #creation of numpy array from identity() method of np having 45x45"
   ]
  },
  {
   "cell_type": "code",
   "execution_count": 28,
   "id": "dad81879-ed00-4e01-86b4-3e441177f11a",
   "metadata": {},
   "outputs": [
    {
     "data": {
      "text/plain": [
       "array([[1., 0., 0., ..., 0., 0., 0.],\n",
       "       [0., 1., 0., ..., 0., 0., 0.],\n",
       "       [0., 0., 1., ..., 0., 0., 0.],\n",
       "       ...,\n",
       "       [0., 0., 0., ..., 1., 0., 0.],\n",
       "       [0., 0., 0., ..., 0., 1., 0.],\n",
       "       [0., 0., 0., ..., 0., 0., 1.]])"
      ]
     },
     "execution_count": 28,
     "metadata": {},
     "output_type": "execute_result"
    }
   ],
   "source": [
    "ide"
   ]
  },
  {
   "cell_type": "code",
   "execution_count": 66,
   "id": "9310a3bc-c62b-4042-9867-452728442cdf",
   "metadata": {},
   "outputs": [
    {
     "data": {
      "text/plain": [
       "(45, 45)"
      ]
     },
     "execution_count": 66,
     "metadata": {},
     "output_type": "execute_result"
    }
   ],
   "source": [
    "ide.shape #matrix of 45x45"
   ]
  },
  {
   "cell_type": "code",
   "execution_count": 68,
   "id": "86fdb108-a1f2-4b45-88ea-3027c385c8fe",
   "metadata": {},
   "outputs": [
    {
     "data": {
      "text/plain": [
       "2025"
      ]
     },
     "execution_count": 68,
     "metadata": {},
     "output_type": "execute_result"
    }
   ],
   "source": [
    "ide.size"
   ]
  },
  {
   "cell_type": "code",
   "execution_count": 70,
   "id": "bbe0e2d7-8312-4d01-aa3a-b154dc1008e7",
   "metadata": {},
   "outputs": [
    {
     "data": {
      "text/plain": [
       "dtype('float64')"
      ]
     },
     "execution_count": 70,
     "metadata": {},
     "output_type": "execute_result"
    }
   ],
   "source": [
    "ide.dtype"
   ]
  },
  {
   "cell_type": "code",
   "execution_count": null,
   "id": "f81a33de-e06c-4129-ae80-23088391a489",
   "metadata": {},
   "outputs": [],
   "source": []
  },
  {
   "cell_type": "code",
   "execution_count": null,
   "id": "3002a4b5-9f0a-4cf3-9255-266960c28038",
   "metadata": {},
   "outputs": [],
   "source": []
  },
  {
   "cell_type": "code",
   "execution_count": 72,
   "id": "c3199905-47b3-46f0-848e-9a1683f88bcd",
   "metadata": {},
   "outputs": [],
   "source": [
    "arr1 = np.arange(50)"
   ]
  },
  {
   "cell_type": "code",
   "execution_count": 74,
   "id": "5f8517ce-490e-4907-9d59-19f4f77aa533",
   "metadata": {},
   "outputs": [
    {
     "data": {
      "text/plain": [
       "array([ 0,  1,  2,  3,  4,  5,  6,  7,  8,  9, 10, 11, 12, 13, 14, 15, 16,\n",
       "       17, 18, 19, 20, 21, 22, 23, 24, 25, 26, 27, 28, 29, 30, 31, 32, 33,\n",
       "       34, 35, 36, 37, 38, 39, 40, 41, 42, 43, 44, 45, 46, 47, 48, 49])"
      ]
     },
     "execution_count": 74,
     "metadata": {},
     "output_type": "execute_result"
    }
   ],
   "source": [
    "arr1"
   ]
  },
  {
   "cell_type": "code",
   "execution_count": 76,
   "id": "f21d71e7-ae0c-4483-b901-41bd69e7406a",
   "metadata": {},
   "outputs": [],
   "source": [
    "arr1 = arr1.reshape(5,10)  #it will convert into 5x10 i.e. 5 rows and 10 columns"
   ]
  },
  {
   "cell_type": "code",
   "execution_count": 78,
   "id": "a6c1691a-26d3-466b-a772-2b720719dadf",
   "metadata": {},
   "outputs": [
    {
     "data": {
      "text/plain": [
       "array([[ 0,  1,  2,  3,  4,  5,  6,  7,  8,  9],\n",
       "       [10, 11, 12, 13, 14, 15, 16, 17, 18, 19],\n",
       "       [20, 21, 22, 23, 24, 25, 26, 27, 28, 29],\n",
       "       [30, 31, 32, 33, 34, 35, 36, 37, 38, 39],\n",
       "       [40, 41, 42, 43, 44, 45, 46, 47, 48, 49]])"
      ]
     },
     "execution_count": 78,
     "metadata": {},
     "output_type": "execute_result"
    }
   ],
   "source": [
    "arr1  "
   ]
  },
  {
   "cell_type": "code",
   "execution_count": 80,
   "id": "8224584f-7272-4603-99e3-d1f1799bad8b",
   "metadata": {},
   "outputs": [
    {
     "data": {
      "text/plain": [
       "(5, 10)"
      ]
     },
     "execution_count": 80,
     "metadata": {},
     "output_type": "execute_result"
    }
   ],
   "source": [
    "arr1.shape"
   ]
  },
  {
   "cell_type": "code",
   "execution_count": 82,
   "id": "d1e8fd47-8c36-4cf6-89c3-046135fe8482",
   "metadata": {},
   "outputs": [],
   "source": [
    "#now again i want to convert into original array shape ,so use ravel() method"
   ]
  },
  {
   "cell_type": "code",
   "execution_count": 84,
   "id": "9e3251ff-56ce-4c0e-8a98-b2e3027950da",
   "metadata": {},
   "outputs": [],
   "source": [
    "arr1=arr1.ravel()"
   ]
  },
  {
   "cell_type": "code",
   "execution_count": 86,
   "id": "8efad4ca-4aab-4370-96f5-97d83ea8ee18",
   "metadata": {},
   "outputs": [
    {
     "data": {
      "text/plain": [
       "array([ 0,  1,  2,  3,  4,  5,  6,  7,  8,  9, 10, 11, 12, 13, 14, 15, 16,\n",
       "       17, 18, 19, 20, 21, 22, 23, 24, 25, 26, 27, 28, 29, 30, 31, 32, 33,\n",
       "       34, 35, 36, 37, 38, 39, 40, 41, 42, 43, 44, 45, 46, 47, 48, 49])"
      ]
     },
     "execution_count": 86,
     "metadata": {},
     "output_type": "execute_result"
    }
   ],
   "source": [
    "arr1"
   ]
  },
  {
   "cell_type": "code",
   "execution_count": 90,
   "id": "cdd24595-3489-4d58-8345-7689cc2f38d2",
   "metadata": {},
   "outputs": [
    {
     "data": {
      "text/plain": [
       "(50,)"
      ]
     },
     "execution_count": 90,
     "metadata": {},
     "output_type": "execute_result"
    }
   ],
   "source": [
    "arr1.shape #again it got converted into the 1D array original "
   ]
  },
  {
   "cell_type": "code",
   "execution_count": null,
   "id": "57797f06-a18e-49ff-9b57-4bbfd5dabae8",
   "metadata": {},
   "outputs": [],
   "source": []
  },
  {
   "cell_type": "code",
   "execution_count": null,
   "id": "2f567ffa-b487-4ccf-9068-74cb7c306841",
   "metadata": {},
   "outputs": [],
   "source": [
    "                     #About axis in array"
   ]
  },
  {
   "cell_type": "code",
   "execution_count": 92,
   "id": "166b3bb4-2e5f-4498-9ed1-ca02468d8025",
   "metadata": {},
   "outputs": [],
   "source": [
    "x= [[1,2,3],[4,5,6],[7,1,0]]   #2-D"
   ]
  },
  {
   "cell_type": "code",
   "execution_count": 94,
   "id": "1e01d618-69ce-4144-83bb-092066df59e5",
   "metadata": {},
   "outputs": [],
   "source": [
    "ar = np.array(x)"
   ]
  },
  {
   "cell_type": "code",
   "execution_count": 96,
   "id": "fe233e78-7fd8-4bc3-895d-a5df6d0092cc",
   "metadata": {},
   "outputs": [
    {
     "data": {
      "text/plain": [
       "array([[1, 2, 3],\n",
       "       [4, 5, 6],\n",
       "       [7, 1, 0]])"
      ]
     },
     "execution_count": 96,
     "metadata": {},
     "output_type": "execute_result"
    }
   ],
   "source": [
    "ar"
   ]
  },
  {
   "cell_type": "code",
   "execution_count": 110,
   "id": "ad77f6e9-1c46-4ec5-b753-33768de87d8e",
   "metadata": {},
   "outputs": [],
   "source": [
    "#Remember :\n",
    "#in 1D array we have axis=0 only\n",
    "#in 2D array we have two axis i.e. axis=0 (towards row downward ) and axis=1 (towards column sideward) "
   ]
  },
  {
   "cell_type": "code",
   "execution_count": 104,
   "id": "c20f41cf-dba3-4be5-a682-594fd82d9441",
   "metadata": {},
   "outputs": [
    {
     "data": {
      "text/plain": [
       "array([12,  8,  9])"
      ]
     },
     "execution_count": 104,
     "metadata": {},
     "output_type": "execute_result"
    }
   ],
   "source": [
    "ar.sum(axis=0)  #this shows axis=0 sum of rows   "
   ]
  },
  {
   "cell_type": "code",
   "execution_count": 112,
   "id": "520627ca-103f-4b82-8c02-cae2564c758e",
   "metadata": {},
   "outputs": [
    {
     "data": {
      "text/plain": [
       "array([ 6, 15,  8])"
      ]
     },
     "execution_count": 112,
     "metadata": {},
     "output_type": "execute_result"
    }
   ],
   "source": [
    "ar.sum(axis=1) #this shows axis=1 sum of cols."
   ]
  },
  {
   "cell_type": "code",
   "execution_count": null,
   "id": "be54064f-38a9-47f5-8586-f3cdb64ada78",
   "metadata": {},
   "outputs": [],
   "source": []
  },
  {
   "cell_type": "code",
   "execution_count": null,
   "id": "5f21c360-a009-46cf-a7fb-19bf605f6ba7",
   "metadata": {},
   "outputs": [],
   "source": []
  },
  {
   "cell_type": "code",
   "execution_count": 116,
   "id": "b209d48f-d756-4988-b94e-102c2764cb13",
   "metadata": {},
   "outputs": [],
   "source": [
    "#to find transpose of an array"
   ]
  },
  {
   "cell_type": "code",
   "execution_count": 118,
   "id": "1e42b8a6-3a42-4d0f-88a4-24dbd4cb0bd3",
   "metadata": {},
   "outputs": [
    {
     "data": {
      "text/plain": [
       "array([[1, 4, 7],\n",
       "       [2, 5, 1],\n",
       "       [3, 6, 0]])"
      ]
     },
     "execution_count": 118,
     "metadata": {},
     "output_type": "execute_result"
    }
   ],
   "source": [
    "ar.T"
   ]
  },
  {
   "cell_type": "code",
   "execution_count": 120,
   "id": "a09bc861-3991-479a-80ef-5505d7ff3d68",
   "metadata": {},
   "outputs": [
    {
     "data": {
      "text/plain": [
       "2"
      ]
     },
     "execution_count": 120,
     "metadata": {},
     "output_type": "execute_result"
    }
   ],
   "source": [
    "ar.ndim #dimension"
   ]
  },
  {
   "cell_type": "code",
   "execution_count": 122,
   "id": "399d142c-017c-4a8d-aab9-ef8f74d93541",
   "metadata": {},
   "outputs": [
    {
     "data": {
      "text/plain": [
       "(3, 3)"
      ]
     },
     "execution_count": 122,
     "metadata": {},
     "output_type": "execute_result"
    }
   ],
   "source": [
    "ar.shape"
   ]
  },
  {
   "cell_type": "code",
   "execution_count": 124,
   "id": "49f42500-fcd5-4fca-8f0e-f9ef761576d6",
   "metadata": {},
   "outputs": [
    {
     "data": {
      "text/plain": [
       "9"
      ]
     },
     "execution_count": 124,
     "metadata": {},
     "output_type": "execute_result"
    }
   ],
   "source": [
    "ar.size"
   ]
  },
  {
   "cell_type": "code",
   "execution_count": 126,
   "id": "43692b66-be2a-4d5f-b255-1d9bddde19fd",
   "metadata": {},
   "outputs": [
    {
     "data": {
      "text/plain": [
       "36"
      ]
     },
     "execution_count": 126,
     "metadata": {},
     "output_type": "execute_result"
    }
   ],
   "source": [
    "ar.nbytes  #it tells how much my array's elements are consuming space\n"
   ]
  },
  {
   "cell_type": "code",
   "execution_count": null,
   "id": "48347cd0-9e05-40c5-a618-2573012606d8",
   "metadata": {},
   "outputs": [],
   "source": []
  },
  {
   "cell_type": "code",
   "execution_count": null,
   "id": "f6def79d-6f7a-4745-9a2a-f56facd5a64d",
   "metadata": {},
   "outputs": [],
   "source": []
  },
  {
   "cell_type": "code",
   "execution_count": 130,
   "id": "49321476-b468-4bad-a255-d76f402ef5cf",
   "metadata": {},
   "outputs": [],
   "source": [
    "#MEthods of 1D array"
   ]
  },
  {
   "cell_type": "code",
   "execution_count": 132,
   "id": "e609bb59-bd73-4b14-a389-c912b0f01393",
   "metadata": {},
   "outputs": [],
   "source": [
    "one= np.array([2,55,4,3])"
   ]
  },
  {
   "cell_type": "code",
   "execution_count": 134,
   "id": "794f73bc-6074-4f2a-8245-61cd60a0364f",
   "metadata": {},
   "outputs": [
    {
     "data": {
      "text/plain": [
       "array([ 2, 55,  4,  3])"
      ]
     },
     "execution_count": 134,
     "metadata": {},
     "output_type": "execute_result"
    }
   ],
   "source": [
    "one"
   ]
  },
  {
   "cell_type": "code",
   "execution_count": 138,
   "id": "4b070ccf-026e-4749-af92-70a306ed0486",
   "metadata": {},
   "outputs": [
    {
     "data": {
      "text/plain": [
       "1"
      ]
     },
     "execution_count": 138,
     "metadata": {},
     "output_type": "execute_result"
    }
   ],
   "source": [
    "one.argmax() #this method return the index where max value is present"
   ]
  },
  {
   "cell_type": "code",
   "execution_count": 140,
   "id": "a2300824-aec5-4153-bd95-844210f94e1b",
   "metadata": {},
   "outputs": [
    {
     "data": {
      "text/plain": [
       "0"
      ]
     },
     "execution_count": 140,
     "metadata": {},
     "output_type": "execute_result"
    }
   ],
   "source": [
    "one.argmin()"
   ]
  },
  {
   "cell_type": "code",
   "execution_count": 142,
   "id": "f4978a8f-1328-4068-af25-aeef5c8f7e7d",
   "metadata": {},
   "outputs": [
    {
     "data": {
      "text/plain": [
       "array([0, 3, 2, 1], dtype=int64)"
      ]
     },
     "execution_count": 142,
     "metadata": {},
     "output_type": "execute_result"
    }
   ],
   "source": [
    "one.argsort() #return indices in array format where values are present in ASC order"
   ]
  },
  {
   "cell_type": "code",
   "execution_count": 146,
   "id": "98daa143-f06b-4d6f-9616-c09be7322119",
   "metadata": {},
   "outputs": [
    {
     "data": {
      "text/plain": [
       "array([[1, 2, 3],\n",
       "       [4, 5, 6],\n",
       "       [7, 1, 0]])"
      ]
     },
     "execution_count": 146,
     "metadata": {},
     "output_type": "execute_result"
    }
   ],
   "source": [
    "ar   #2D"
   ]
  },
  {
   "cell_type": "code",
   "execution_count": 144,
   "id": "8e76b5cc-1cda-4eb6-9f73-877cf893a4ee",
   "metadata": {},
   "outputs": [
    {
     "data": {
      "text/plain": [
       "array([[0, 1, 2],\n",
       "       [0, 1, 2],\n",
       "       [2, 1, 0]], dtype=int64)"
      ]
     },
     "execution_count": 144,
     "metadata": {},
     "output_type": "execute_result"
    }
   ],
   "source": [
    "ar.argsort()"
   ]
  },
  {
   "cell_type": "code",
   "execution_count": 148,
   "id": "906b8987-7a4a-477d-a2d3-4358355d2052",
   "metadata": {},
   "outputs": [
    {
     "data": {
      "text/plain": [
       "8"
      ]
     },
     "execution_count": 148,
     "metadata": {},
     "output_type": "execute_result"
    }
   ],
   "source": [
    "ar.argmin()"
   ]
  },
  {
   "cell_type": "code",
   "execution_count": 150,
   "id": "aa84ecfb-bae6-4910-b418-00747e2e2258",
   "metadata": {},
   "outputs": [
    {
     "data": {
      "text/plain": [
       "array([2, 1, 1], dtype=int64)"
      ]
     },
     "execution_count": 150,
     "metadata": {},
     "output_type": "execute_result"
    }
   ],
   "source": [
    "ar.argmax(axis=0)"
   ]
  },
  {
   "cell_type": "code",
   "execution_count": 152,
   "id": "25149544-73ba-4369-8568-c0b367aa06c0",
   "metadata": {},
   "outputs": [
    {
     "data": {
      "text/plain": [
       "array([0, 2, 2], dtype=int64)"
      ]
     },
     "execution_count": 152,
     "metadata": {},
     "output_type": "execute_result"
    }
   ],
   "source": [
    "ar.argmin(axis=0)"
   ]
  },
  {
   "cell_type": "code",
   "execution_count": 154,
   "id": "2f27addb-dcac-4547-88f7-9e75ef807232",
   "metadata": {},
   "outputs": [
    {
     "data": {
      "text/plain": [
       "array([0, 0, 2], dtype=int64)"
      ]
     },
     "execution_count": 154,
     "metadata": {},
     "output_type": "execute_result"
    }
   ],
   "source": [
    "ar.argmin(axis=1)"
   ]
  },
  {
   "cell_type": "code",
   "execution_count": 156,
   "id": "e9ceb5b6-1909-49b7-a600-05534605951d",
   "metadata": {},
   "outputs": [
    {
     "data": {
      "text/plain": [
       "array([1, 2, 3, 4, 5, 6, 7, 1, 0])"
      ]
     },
     "execution_count": 156,
     "metadata": {},
     "output_type": "execute_result"
    }
   ],
   "source": [
    "ar.ravel()"
   ]
  },
  {
   "cell_type": "code",
   "execution_count": 164,
   "id": "94c6049c-21a7-4fe0-bdcc-3ac90f098a2f",
   "metadata": {},
   "outputs": [
    {
     "data": {
      "text/plain": [
       "array([1, 2, 3, 4, 5, 6, 7, 1, 0])"
      ]
     },
     "execution_count": 164,
     "metadata": {},
     "output_type": "execute_result"
    }
   ],
   "source": [
    "ar.reshape(9,)  #into 1D"
   ]
  },
  {
   "cell_type": "code",
   "execution_count": 170,
   "id": "e146c808-6599-4762-ac84-5ee41361956a",
   "metadata": {},
   "outputs": [
    {
     "data": {
      "text/plain": [
       "array([[1],\n",
       "       [2],\n",
       "       [3],\n",
       "       [4],\n",
       "       [5],\n",
       "       [6],\n",
       "       [7],\n",
       "       [1],\n",
       "       [0]])"
      ]
     },
     "execution_count": 170,
     "metadata": {},
     "output_type": "execute_result"
    }
   ],
   "source": [
    "ar.reshape(9,1)  #into 2D"
   ]
  },
  {
   "cell_type": "code",
   "execution_count": null,
   "id": "ee54a5ac-ab2b-402b-958c-a13e477e3a10",
   "metadata": {},
   "outputs": [],
   "source": []
  },
  {
   "cell_type": "code",
   "execution_count": 172,
   "id": "9e14c780-f623-4570-93b9-524f256463e1",
   "metadata": {},
   "outputs": [],
   "source": [
    "#mathematical/matrix  operations in numpy "
   ]
  },
  {
   "cell_type": "code",
   "execution_count": 175,
   "id": "d0819019-8916-4860-9dea-666db5000891",
   "metadata": {},
   "outputs": [
    {
     "data": {
      "text/plain": [
       "array([[1, 2, 3],\n",
       "       [4, 5, 6],\n",
       "       [7, 1, 0]])"
      ]
     },
     "execution_count": 175,
     "metadata": {},
     "output_type": "execute_result"
    }
   ],
   "source": [
    "ar"
   ]
  },
  {
   "cell_type": "code",
   "execution_count": 177,
   "id": "f5060e2e-21fb-4afb-8bee-69b2233173c1",
   "metadata": {},
   "outputs": [],
   "source": [
    "ar2= np.array([[2,3,4],[4,5,1],[8,7,6]])"
   ]
  },
  {
   "cell_type": "code",
   "execution_count": 179,
   "id": "13509a34-e03a-47e8-a069-97eb6d2380a9",
   "metadata": {},
   "outputs": [
    {
     "data": {
      "text/plain": [
       "array([[2, 3, 4],\n",
       "       [4, 5, 1],\n",
       "       [8, 7, 6]])"
      ]
     },
     "execution_count": 179,
     "metadata": {},
     "output_type": "execute_result"
    }
   ],
   "source": [
    "ar2"
   ]
  },
  {
   "cell_type": "code",
   "execution_count": 181,
   "id": "3a0010a1-8e14-46c4-b386-a57c7a58aa5c",
   "metadata": {},
   "outputs": [
    {
     "data": {
      "text/plain": [
       "array([[ 3,  5,  7],\n",
       "       [ 8, 10,  7],\n",
       "       [15,  8,  6]])"
      ]
     },
     "execution_count": 181,
     "metadata": {},
     "output_type": "execute_result"
    }
   ],
   "source": [
    "ar + ar2  #Addition"
   ]
  },
  {
   "cell_type": "code",
   "execution_count": 183,
   "id": "dd901e5a-8a0f-44fc-b70b-4f865031c438",
   "metadata": {},
   "outputs": [
    {
     "data": {
      "text/plain": [
       "array([[-1, -1, -1],\n",
       "       [ 0,  0,  5],\n",
       "       [-1, -6, -6]])"
      ]
     },
     "execution_count": 183,
     "metadata": {},
     "output_type": "execute_result"
    }
   ],
   "source": [
    "ar - ar2  #subtraction"
   ]
  },
  {
   "cell_type": "code",
   "execution_count": 185,
   "id": "6f391f82-a5b6-4a96-9b1a-d284696998d1",
   "metadata": {},
   "outputs": [
    {
     "data": {
      "text/plain": [
       "array([[ 2,  6, 12],\n",
       "       [16, 25,  6],\n",
       "       [56,  7,  0]])"
      ]
     },
     "execution_count": 185,
     "metadata": {},
     "output_type": "execute_result"
    }
   ],
   "source": [
    "ar * ar2  #element wise multp."
   ]
  },
  {
   "cell_type": "code",
   "execution_count": 187,
   "id": "51ee8c93-626a-4e7d-a9e3-3a8549e0b8fa",
   "metadata": {},
   "outputs": [
    {
     "data": {
      "text/plain": [
       "array([[1.        , 1.41421356, 1.73205081],\n",
       "       [2.        , 2.23606798, 2.44948974],\n",
       "       [2.64575131, 1.        , 0.        ]])"
      ]
     },
     "execution_count": 187,
     "metadata": {},
     "output_type": "execute_result"
    }
   ],
   "source": [
    "np.sqrt(ar)  #square root of ar array elements"
   ]
  },
  {
   "cell_type": "code",
   "execution_count": 191,
   "id": "0c8ca9da-adbe-4bd2-80b8-dbe0cfbecdae",
   "metadata": {},
   "outputs": [
    {
     "data": {
      "text/plain": [
       "29"
      ]
     },
     "execution_count": 191,
     "metadata": {},
     "output_type": "execute_result"
    }
   ],
   "source": [
    "ar.sum()"
   ]
  },
  {
   "cell_type": "code",
   "execution_count": 193,
   "id": "9fd8e2e2-6ca0-43bf-8938-83123cb14e83",
   "metadata": {},
   "outputs": [
    {
     "data": {
      "text/plain": [
       "7"
      ]
     },
     "execution_count": 193,
     "metadata": {},
     "output_type": "execute_result"
    }
   ],
   "source": [
    "ar.max()  #return max element"
   ]
  },
  {
   "cell_type": "code",
   "execution_count": 195,
   "id": "e0255ec7-1ff5-4994-99ec-bde4f5eea71f",
   "metadata": {},
   "outputs": [
    {
     "data": {
      "text/plain": [
       "6"
      ]
     },
     "execution_count": 195,
     "metadata": {},
     "output_type": "execute_result"
    }
   ],
   "source": [
    "ar.argmax() #return index"
   ]
  },
  {
   "cell_type": "code",
   "execution_count": 197,
   "id": "d22cb76f-46e4-4a9d-8cd6-c11ab246edd3",
   "metadata": {},
   "outputs": [
    {
     "data": {
      "text/plain": [
       "0"
      ]
     },
     "execution_count": 197,
     "metadata": {},
     "output_type": "execute_result"
    }
   ],
   "source": [
    "ar.min()"
   ]
  },
  {
   "cell_type": "code",
   "execution_count": 199,
   "id": "e4179f66-c744-4d45-bd25-e7a09a510b46",
   "metadata": {},
   "outputs": [
    {
     "data": {
      "text/plain": [
       "(array([1, 2], dtype=int64), array([2, 0], dtype=int64))"
      ]
     },
     "execution_count": 199,
     "metadata": {},
     "output_type": "execute_result"
    }
   ],
   "source": [
    " np.where(ar>5) #it will return index where the elements greater then 5 available in whole array/matrix"
   ]
  },
  {
   "cell_type": "code",
   "execution_count": 201,
   "id": "bc5025d7-6a12-42aa-8d07-2caab3c5c985",
   "metadata": {},
   "outputs": [
    {
     "data": {
      "text/plain": [
       "8"
      ]
     },
     "execution_count": 201,
     "metadata": {},
     "output_type": "execute_result"
    }
   ],
   "source": [
    "np.count_nonzero(ar) #total elements which have non zero values are 8"
   ]
  },
  {
   "cell_type": "code",
   "execution_count": 203,
   "id": "63352c65-9a8e-4e4f-a22e-3a39a341b746",
   "metadata": {},
   "outputs": [
    {
     "data": {
      "text/plain": [
       "(array([0, 0, 0, 1, 1, 1, 2, 2], dtype=int64),\n",
       " array([0, 1, 2, 0, 1, 2, 0, 1], dtype=int64))"
      ]
     },
     "execution_count": 203,
     "metadata": {},
     "output_type": "execute_result"
    }
   ],
   "source": [
    "np.nonzero(ar)     "
   ]
  },
  {
   "cell_type": "code",
   "execution_count": null,
   "id": "34304c05-27fc-4461-8fc1-9be017e84b48",
   "metadata": {},
   "outputs": [],
   "source": []
  }
 ],
 "metadata": {
  "kernelspec": {
   "display_name": "Python 3 (ipykernel)",
   "language": "python",
   "name": "python3"
  },
  "language_info": {
   "codemirror_mode": {
    "name": "ipython",
    "version": 3
   },
   "file_extension": ".py",
   "mimetype": "text/x-python",
   "name": "python",
   "nbconvert_exporter": "python",
   "pygments_lexer": "ipython3",
   "version": "3.12.4"
  }
 },
 "nbformat": 4,
 "nbformat_minor": 5
}
